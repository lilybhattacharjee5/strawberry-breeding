{
 "cells": [
  {
   "cell_type": "code",
   "execution_count": 1,
   "metadata": {},
   "outputs": [],
   "source": [
    "import pandas as pd\n",
    "import networkx as nx\n",
    "import matplotlib.pyplot as plt\n",
    "import numpy as np\n",
    "import json\n",
    "import seaborn as sns\n",
    "import gzip"
   ]
  },
  {
   "cell_type": "code",
   "execution_count": 2,
   "metadata": {},
   "outputs": [],
   "source": [
    "provided_data_root_path = '~/Documents/beagle/provided_data'\n",
    "provided_data_input_path = '~/Documents/beagle/inputs/'\n",
    "provided_data_output_path = '~/Documents/beagle/outputs/'"
   ]
  },
  {
   "cell_type": "markdown",
   "metadata": {},
   "source": [
    "## PULSAR File Generation"
   ]
  },
  {
   "cell_type": "code",
   "execution_count": null,
   "metadata": {},
   "outputs": [],
   "source": [
    "maf_vals = pd.read_csv('~/downloads/Runcie_Resource_Allocation/new_allele_frequencies.csv')\n",
    "genetic_map_provided = pd.read_csv('20A823_Genetic_Map.csv').drop(columns = ['Unnamed: 0'])\n",
    "cam_map_provided = pd.read_csv('camMap.csv').drop(columns = ['Unnamed: 0'])\n",
    "ped = pd.read_csv('~/Downloads/Runcie_Resource_Allocation/pulsar_pedigree_input.csv')"
   ]
  },
  {
   "cell_type": "code",
   "execution_count": null,
   "metadata": {},
   "outputs": [],
   "source": [
    "def get_vcf_names(vcf_path):\n",
    "    with gzip.open(vcf_path, \"rt\") as ifile:\n",
    "        for line in ifile:\n",
    "            if line.startswith(\"#CHROM\"):\n",
    "                vcf_names = [x for x in line.split('\\t')]\n",
    "                break\n",
    "    ifile.close()\n",
    "    return vcf_names\n",
    "\n",
    "def find_parents(curr_child):\n",
    "    family_tree = []\n",
    "    if curr_child not in names:\n",
    "        return family_tree\n",
    "        \n",
    "    q = []\n",
    "    visited = {curr_child: True}\n",
    "    q.append(curr_child)\n",
    "    while q:\n",
    "        v = q.pop(0)\n",
    "        if v != '0': family_tree.append(v)\n",
    "        results = both_parents_genotyped.loc[both_parents_genotyped.ID == v]\n",
    "        if not len(results):\n",
    "            continue\n",
    "        row = results.iloc[0]\n",
    "        mother, father = row['MO'], row['FA']\n",
    "        if mother == '0' and father == '0':\n",
    "            continue\n",
    "        elif mother != '0' and father != '0':\n",
    "            q.append(father)\n",
    "            visited[father] = True\n",
    "            q.append(mother)\n",
    "            visited[mother] = True\n",
    "        elif mother != '0':\n",
    "            q.append(father)\n",
    "            visited[father] = True\n",
    "        elif father != '0':\n",
    "            q.append(mother)\n",
    "            visited[mother] = True\n",
    "    return list(set(family_tree))\n",
    "\n",
    "def draw_ancestry_network():\n",
    "    # create all edge tuples\n",
    "    g = nx.DiGraph()\n",
    "    g.add_edges_from(edges_selected)\n",
    "    g.add_nodes_from(nodes_selected)\n",
    "\n",
    "    plt.figure(figsize = (15, 12))\n",
    "    pos = nx.spring_layout(g)\n",
    "    nx.draw_networkx_nodes(g, pos, cmap = plt.get_cmap('summer'), node_color = '#ADD8E6', node_size = 500)\n",
    "    nx.draw_networkx_labels(g, pos)\n",
    "    nx.draw_networkx_edges(g, pos, arrows = True)\n",
    "    plt.show()\n",
    "    \n",
    "def find_children(nodename):\n",
    "    conn = [v for u, v in nx.bfs_edges(g, nodename)]\n",
    "    return conn\n",
    "\n",
    "def find_lineages(founder, offspring):\n",
    "    curr_lineages = []\n",
    "    for o in offspring:\n",
    "        curr_lineages.append('_'.join(nx.shortest_path(g, source = founder, target = o)))\n",
    "    return curr_lineages"
   ]
  },
  {
   "cell_type": "code",
   "execution_count": null,
   "metadata": {},
   "outputs": [],
   "source": [
    "names = get_vcf_names(provided_data_root_path + '')[9:]\n",
    "print(len(names))\n",
    "names[:10]"
   ]
  },
  {
   "cell_type": "code",
   "execution_count": null,
   "metadata": {},
   "outputs": [],
   "source": [
    "all_parents = list(set(list(ped['FA']) + list(ped['MO'])) - set('0'))\n",
    "parent_vcf_intersect = list(set(all_parents).intersection(set(names)))"
   ]
  },
  {
   "cell_type": "code",
   "execution_count": null,
   "metadata": {},
   "outputs": [],
   "source": [
    "# find all organisms in the pedigree table s.t. both parents are genotyped\n",
    "\n",
    "both_parents_genotyped = ped.loc[ped['FA'].isin(parent_vcf_intersect) & ped['MO'].isin(parent_vcf_intersect)]\n",
    "print(both_parents_genotyped.shape)\n",
    "both_parents_genotyped.head()"
   ]
  },
  {
   "cell_type": "code",
   "execution_count": null,
   "metadata": {},
   "outputs": [],
   "source": [
    "nodes_selected = find_parents('Organism11190')\n",
    "edges_selected = []\n",
    "\n",
    "for _, i in both_parents_genotyped.iterrows():\n",
    "    child, p1, p2 = i['ID'], i['FA'], i['MO']\n",
    "    if child in nodes_selected and p1 != '0' and p2 != '0':\n",
    "        edges_selected.append((p1, child))\n",
    "        edges_selected.append((p2, child))\n",
    "        \n",
    "        if p1 not in nodes_selected: nodes_selected.append(p1)\n",
    "        if p2 not in nodes_selected: nodes_selected.append(p2)"
   ]
  },
  {
   "cell_type": "code",
   "execution_count": null,
   "metadata": {},
   "outputs": [],
   "source": [
    "# generate founder hash & lineage\n",
    "founderhash = {}\n",
    "for f in new_founders:\n",
    "    founderhash[f] = find_children(f)\n",
    "    \n",
    "print(founderhash)\n",
    "    \n",
    "founder_data = {}\n",
    "founder_data['founders'] = list(founderhash.keys())\n",
    "founder_data['offspring'] = [':'.join(i) for i in list(founderhash.values())]\n",
    "founder_df = pd.DataFrame.from_dict(founder_data)\n",
    "founder_df.head()\n",
    "\n",
    "founder_df.to_csv('vcf_split_method/founderhash.csv', index = False)\n",
    "\n",
    "all_lineages = []\n",
    "for f, o in zip(founder_data['founders'], founder_data['offspring']):\n",
    "    all_lineages.append(f)\n",
    "    if len(o.split(':')) and o.strip() != \"\":\n",
    "        all_lineages.extend(find_lineages(f, o.split(':')))\n",
    "        \n",
    "print(all_lineages[:10], len(all_lineages))\n",
    "\n",
    "lineage_df = pd.DataFrame({'lineage': all_lineages})\n",
    "lineage_df.to_csv('vcf_split_method/pulsarlineage.csv', index = False)"
   ]
  },
  {
   "cell_type": "markdown",
   "metadata": {},
   "source": [
    "## BEAGLE File Generation"
   ]
  },
  {
   "cell_type": "code",
   "execution_count": null,
   "metadata": {},
   "outputs": [],
   "source": []
  }
 ],
 "metadata": {
  "kernelspec": {
   "display_name": "Python 3",
   "language": "python",
   "name": "python3"
  },
  "language_info": {
   "codemirror_mode": {
    "name": "ipython",
    "version": 3
   },
   "file_extension": ".py",
   "mimetype": "text/x-python",
   "name": "python",
   "nbconvert_exporter": "python",
   "pygments_lexer": "ipython3",
   "version": "3.6.10"
  }
 },
 "nbformat": 4,
 "nbformat_minor": 4
}
